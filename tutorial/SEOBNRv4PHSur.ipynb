{
 "cells": [
  {
   "cell_type": "markdown",
   "metadata": {},
   "source": [
    "# Example usage of NRSur7dq4 surrogate model."
   ]
  },
  {
   "cell_type": "code",
   "execution_count": 1,
   "metadata": {},
   "outputs": [
    {
     "name": "stderr",
     "output_type": "stream",
     "text": [
      "/opt/anaconda3/envs/pycbc_live_non_bank/lib/python3.8/site-packages/gwtools/rotations.py:63: UserWarning: Could not import GWFrames, needed for rotations module\n",
      "  _warnings.warn(\"Could not import GWFrames, needed for rotations module\")\n",
      "/opt/anaconda3/envs/pycbc_live_non_bank/lib/python3.8/site-packages/gwtools/__init__.py:11: UserWarning: Could not import rotations, decompositions, or fitfuncs. These are not needed by GWSurrogate.\n",
      "  _warnings.warn(\"Could not import rotations, decompositions, or fitfuncs. These are not needed by GWSurrogate.\")\n"
     ]
    },
    {
     "name": "stdout",
     "output_type": "stream",
     "text": [
      "setting __package__ to gwsurrogate.new so relative imports work\n",
      "__name__ = gwsurrogate.new.spline_evaluation\n",
      "__package__= gwsurrogate.new\n",
      "setting __package__ to gwsurrogate.new so relative imports work\n",
      "setting __package__ to gwsurrogate.new so relative imports work\n"
     ]
    }
   ],
   "source": [
    "import numpy as np\n",
    "import matplotlib.pyplot as P\n",
    "%matplotlib inline\n",
    "\n",
    "import gwsurrogate"
   ]
  },
  {
   "cell_type": "markdown",
   "metadata": {},
   "source": [
    "## Download surrogate data, this only needs to be done once"
   ]
  },
  {
   "cell_type": "code",
   "execution_count": 2,
   "metadata": {},
   "outputs": [],
   "source": [
    "# This can take a few minutes\n",
    "# gwsurrogate.catalog.pull('NRSur7dq4')"
   ]
  },
  {
   "cell_type": "markdown",
   "metadata": {},
   "source": [
    "## Load the surrogate, this only needs to be done once at the start of a script"
   ]
  },
  {
   "cell_type": "code",
   "execution_count": 4,
   "metadata": {},
   "outputs": [
    {
     "name": "stdout",
     "output_type": "stream",
     "text": [
      "Loaded SEOBNRv4PHMSur model\n"
     ]
    }
   ],
   "source": [
    "sur = gwsurrogate.LoadSurrogate('../../surr_data/SEOBNRv4PHMSur.h5')"
   ]
  },
  {
   "cell_type": "markdown",
   "metadata": {},
   "source": [
    "## Read the documentation"
   ]
  },
  {
   "cell_type": "code",
   "execution_count": null,
   "metadata": {},
   "outputs": [],
   "source": [
    "# help(sur)\n",
    "precessing_opts = {'return_dynamics': True}"
   ]
  },
  {
   "cell_type": "markdown",
   "metadata": {},
   "source": [
    "## Evaluate the waveform"
   ]
  },
  {
   "cell_type": "markdown",
   "metadata": {},
   "source": [
    "### Evaluate waveform modes in dimensionless units (default)"
   ]
  },
  {
   "cell_type": "code",
   "execution_count": null,
   "metadata": {},
   "outputs": [],
   "source": [
    "q = 4\n",
    "chiA = [-0.2, 0.4, 0.1]\n",
    "chiB = [-0.5, 0.2, -0.4]\n",
    "dt = 0.1        # timestep size, Units of M\n",
    "f_low = 0       # initial frequency, f_low=0 returns the full surrogate\n",
    "t, h, dyn = sur(q, chiA, chiB, dt=dt, f_low=f_low)   # dyn stands for dynamics, do dyn.keys() to see contents"
   ]
  },
  {
   "cell_type": "code",
   "execution_count": null,
   "metadata": {},
   "outputs": [],
   "source": [
    "# Let's see all available modes\n",
    "print( sorted(h.keys()) )"
   ]
  },
  {
   "cell_type": "code",
   "execution_count": null,
   "metadata": {
    "scrolled": true
   },
   "outputs": [],
   "source": [
    "P.plot(t, h[(2,2)].real, label='l2m2 real')\n",
    "P.plot(t, h[(2,1)].real, label='l2m1 real')\n",
    "P.plot(t, h[(3,3)].real, label='l3m3 real')\n",
    "P.ylabel('Re[$h_{lm}$]', fontsize=18)\n",
    "P.xlabel('t [M]', fontsize=18)\n",
    "P.legend()"
   ]
  },
  {
   "cell_type": "markdown",
   "metadata": {},
   "source": [
    "### Evaluate waveform modes in physical units"
   ]
  },
  {
   "cell_type": "code",
   "execution_count": null,
   "metadata": {},
   "outputs": [],
   "source": [
    "q = 4\n",
    "chiA = [-0.2, 0.4, 0.1]\n",
    "chiB = [-0.5, 0.2, -0.4]\n",
    "f_ref = 20         # Reference frequecny in Hz. The spins are assumed to specified at this frequency\n",
    "f_low = 0          # initial frequency, f_low=0 returns the full surrogate\n",
    "M = 70             # Total masss in solar masses\n",
    "dist_mpc = 100     # distance in megaparsecs\n",
    "dt = 1./4096       # step size in seconds\n",
    "ellMax = 4         # Highest ell index for modes to use\n",
    "\n",
    "# dyn stands for dynamics, do dyn.keys() to see contents\n",
    "t, h, dyn = sur(q, chiA, chiB, dt=dt, f_low=f_low, f_ref=f_ref, ellMax=ellMax, M=M, dist_mpc=dist_mpc, units='mks')\n",
    "\n",
    "P.plot(t, h[(2,2)].real, label='l2m2 real')\n",
    "P.plot(t, h[(2,1)].real, label='l2m1 real')\n",
    "P.ylabel('Re[$h_{lm}$]', fontsize=18)\n",
    "P.xlabel('t [s]', fontsize=18)\n",
    "P.legend()"
   ]
  },
  {
   "cell_type": "markdown",
   "metadata": {},
   "source": [
    "### Evaluate waveform at a point on the sky"
   ]
  },
  {
   "cell_type": "code",
   "execution_count": null,
   "metadata": {},
   "outputs": [],
   "source": [
    "q = 4\n",
    "chiA = [-0.2, 0.4, 0.1]\n",
    "chiB = [-0.5, 0.2, -0.4]\n",
    "f_ref = 20         # Reference frequecny in Hz. The spins are assumed to specified at this frequency\n",
    "f_low = 0          # initial frequency, f_low=0 returns the full surrogate\n",
    "M = 70             # Total masss in solar masses\n",
    "dist_mpc = 100     # distance in megaparsecs\n",
    "dt = 1./4096       # step size in seconds\n",
    "ellMax = 4         # Highest ell index for modes to use\n",
    "inclination = np.pi/4\n",
    "phi_ref = np.pi/5\n",
    "\n",
    "# Will only include modes ell<=ellMax\n",
    "# Returns h = h_+ -i h_x at (inclination, phi_ref) in the sky of the source frame\n",
    "# dyn stands for dynamics, do dyn.keys() to see contents\n",
    "t, h, dyn = sur(q, chiA, chiB, dt=dt, f_low=f_low, f_ref=f_ref, ellMax=ellMax, M=M, dist_mpc=dist_mpc, \n",
    "           inclination=inclination, phi_ref=phi_ref, units='mks')\n",
    "\n",
    "P.plot(t, h.real)\n",
    "P.ylabel('$h_{+}$ $(\\iota, \\phi_{ref})$', fontsize=18)\n",
    "P.xlabel('t [s]', fontsize=18)"
   ]
  },
  {
   "cell_type": "markdown",
   "metadata": {},
   "source": [
    "## Dynamics Surrogate"
   ]
  },
  {
   "cell_type": "code",
   "execution_count": null,
   "metadata": {},
   "outputs": [],
   "source": [
    "q = 4\n",
    "chiA = [-0.2, 0.4, 0.1]  # unless f_ref is given the spins are assumed to be given at the start of the waveform\n",
    "chiB = [-0.5, 0.2, -0.4]\n",
    "dt = 0.1        # step size, Units of M\n",
    "f_low = 0       # initial frequency, f_low=0 returns the full surrogate\n",
    "t, h, dyn = sur(q, chiA, chiB, dt=dt, f_low=f_low, precessing_opts={'return_dynamics': True})        # dyn stands for dynamics, do dyn.keys() to see contents"
   ]
  },
  {
   "cell_type": "code",
   "execution_count": null,
   "metadata": {},
   "outputs": [],
   "source": [
    "# See all available dynamics data\n",
    "dyn.keys()"
   ]
  },
  {
   "cell_type": "code",
   "execution_count": null,
   "metadata": {},
   "outputs": [],
   "source": [
    "P.figure(1)\n",
    "P.plot(t, dyn['chiA'][:,0], label='$\\chi_{Ax}$')\n",
    "P.plot(t, dyn['chiA'][:,1], label='$\\chi_{Ay}$')\n",
    "P.plot(t, dyn['chiA'][:,2], label='$\\chi_{Az}$')\n",
    "P.ylabel('$\\chi_A$', fontsize=18)\n",
    "P.xlabel('t', fontsize=18)\n",
    "P.title('Spin of heavier BH')\n",
    "P.legend(fontsize=14)\n",
    "\n",
    "P.figure(2)\n",
    "P.plot(t, dyn['chiB'][:,0], label='$\\chi_{Bx}$')\n",
    "P.plot(t, dyn['chiB'][:,1], label='$\\chi_{By}$')\n",
    "P.plot(t, dyn['chiB'][:,2], label='$\\chi_{Bz}$')\n",
    "P.ylabel('$\\chi_B$', fontsize=18)\n",
    "P.xlabel('t', fontsize=18)\n",
    "P.title('Spin of lighter BH')\n",
    "P.legend(fontsize=14)\n",
    "\n",
    "P.figure(3)\n",
    "P.plot(t, dyn['orbphase'][:,])\n",
    "P.ylabel('$\\phi_{\\mathrm{orb}}$', fontsize=18)\n",
    "P.xlabel('t', fontsize=18)\n",
    "P.title('Orbital phase')\n",
    "\n",
    "P.figure(4)\n",
    "P.plot(t, dyn['q_copr'][0,:], label='$\\hat{Q}_0$')\n",
    "P.plot(t, dyn['q_copr'][1,:], label='$\\hat{Q}_1$')\n",
    "P.plot(t, dyn['q_copr'][2,:], label='$\\hat{Q}_2$')\n",
    "P.plot(t, dyn['q_copr'][3,:], label='$\\hat{Q}_3$')\n",
    "P.ylabel('$\\hat{Q}$', fontsize=18)\n",
    "P.xlabel('t', fontsize=18)\n",
    "P.title('Coprecessing frame quaternions')\n",
    "P.legend(fontsize=14)"
   ]
  },
  {
   "cell_type": "code",
   "execution_count": null,
   "metadata": {},
   "outputs": [],
   "source": []
  }
 ],
 "metadata": {
  "kernelspec": {
   "display_name": "Python 3 (ipykernel)",
   "language": "python",
   "name": "python3"
  },
  "language_info": {
   "codemirror_mode": {
    "name": "ipython",
    "version": 3
   },
   "file_extension": ".py",
   "mimetype": "text/x-python",
   "name": "python",
   "nbconvert_exporter": "python",
   "pygments_lexer": "ipython3",
   "version": "3.8.12"
  }
 },
 "nbformat": 4,
 "nbformat_minor": 4
}
